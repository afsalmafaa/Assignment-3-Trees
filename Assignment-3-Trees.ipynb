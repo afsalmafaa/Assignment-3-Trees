{
 "cells": [
  {
   "cell_type": "markdown",
   "id": "3ad0d20f",
   "metadata": {},
   "source": [
    "### 1.Implement Binary tree"
   ]
  },
  {
   "cell_type": "code",
   "execution_count": 1,
   "id": "54baa7ee",
   "metadata": {},
   "outputs": [
    {
     "name": "stdout",
     "output_type": "stream",
     "text": [
      "In-order traversal: [1, 3, 4, 5, 7, 8, 9]\n",
      "Pre-order traversal: [5, 3, 1, 4, 8, 7, 9]\n",
      "Post-order traversal: [1, 4, 3, 7, 9, 8, 5]\n"
     ]
    }
   ],
   "source": [
    "class Node:\n",
    "    def __init__(self, key):\n",
    "        self.left = None\n",
    "        self.right = None\n",
    "        self.value = key\n",
    "\n",
    "class BinaryTree:\n",
    "    def __init__(self):\n",
    "        self.root = None\n",
    "\n",
    "    def insert(self, key):\n",
    "        self.root = self._insert_recursively(self.root, key)\n",
    "\n",
    "    def _insert_recursively(self, root, key):\n",
    "        if root is None:\n",
    "            return Node(key)\n",
    "        if key < root.value:\n",
    "            root.left = self._insert_recursively(root.left, key)\n",
    "        else:\n",
    "            root.right = self._insert_recursively(root.right, key)\n",
    "        return root\n",
    "\n",
    "    def inorder_traversal(self):\n",
    "        result = []\n",
    "        self._inorder_recursively(self.root, result)\n",
    "        return result\n",
    "\n",
    "    def _inorder_recursively(self, root, result):\n",
    "        if root:\n",
    "            self._inorder_recursively(root.left, result)\n",
    "            result.append(root.value)\n",
    "            self._inorder_recursively(root.right, result)\n",
    "\n",
    "    def preorder_traversal(self):\n",
    "        result = []\n",
    "        self._preorder_recursively(self.root, result)\n",
    "        return result\n",
    "\n",
    "    def _preorder_recursively(self, root, result):\n",
    "        if root:\n",
    "            result.append(root.value)\n",
    "            self._preorder_recursively(root.left, result)\n",
    "            self._preorder_recursively(root.right, result)\n",
    "\n",
    "    def postorder_traversal(self):\n",
    "        result = []\n",
    "        self._postorder_recursively(self.root, result)\n",
    "        return result\n",
    "\n",
    "    def _postorder_recursively(self, root, result):\n",
    "        if root:\n",
    "            self._postorder_recursively(root.left, result)\n",
    "            self._postorder_recursively(root.right, result)\n",
    "            result.append(root.value)\n",
    "\n",
    "# Example:\n",
    "if __name__ == \"__main__\":\n",
    "    tree = BinaryTree()\n",
    "    tree.insert(5)\n",
    "    tree.insert(3)\n",
    "    tree.insert(8)\n",
    "    tree.insert(1)\n",
    "    tree.insert(4)\n",
    "    tree.insert(7)\n",
    "    tree.insert(9)\n",
    "\n",
    "    print(\"In-order traversal:\", tree.inorder_traversal())\n",
    "    print(\"Pre-order traversal:\", tree.preorder_traversal())\n",
    "    print(\"Post-order traversal:\", tree.postorder_traversal())\n"
   ]
  },
  {
   "cell_type": "markdown",
   "id": "ab6c7036",
   "metadata": {},
   "source": [
    "### 2.Find height of a given tree"
   ]
  },
  {
   "cell_type": "code",
   "execution_count": 2,
   "id": "2b42bffb",
   "metadata": {},
   "outputs": [
    {
     "name": "stdout",
     "output_type": "stream",
     "text": [
      "Height of the binary tree: 2\n"
     ]
    }
   ],
   "source": [
    "class Node:\n",
    "    def __init__(self, key):\n",
    "        self.left = None\n",
    "        self.right = None\n",
    "        self.value = key\n",
    "\n",
    "def find_tree_height(root):\n",
    "    if root is None:\n",
    "        return -1  \n",
    "    else:\n",
    "        left_height = find_tree_height(root.left)\n",
    "        right_height = find_tree_height(root.right)\n",
    "        return max(left_height, right_height) + 1\n",
    "\n",
    "# Example:\n",
    "if __name__ == \"__main__\":\n",
    "    root = Node(1)\n",
    "    root.left = Node(2)\n",
    "    root.right = Node(3)\n",
    "    root.left.left = Node(4)\n",
    "    root.left.right = Node(5)\n",
    "    root.right.left = Node(6)\n",
    "    root.right.right = Node(7)\n",
    "\n",
    "    height = find_tree_height(root)\n",
    "    print(\"Height of the binary tree:\", height)\n"
   ]
  },
  {
   "cell_type": "markdown",
   "id": "daac30a7",
   "metadata": {},
   "source": [
    "### 3.Perform Pre-order, Post-order, In-order traversal"
   ]
  },
  {
   "cell_type": "code",
   "execution_count": 4,
   "id": "872188a7",
   "metadata": {},
   "outputs": [
    {
     "name": "stdout",
     "output_type": "stream",
     "text": [
      "Pre-order traversal: [1, 2, 4, 5, 3, 6, 7]\n",
      "In-order traversal: [4, 2, 5, 1, 6, 3, 7]\n",
      "Post-order traversal: [4, 5, 2, 6, 7, 3, 1]\n"
     ]
    }
   ],
   "source": [
    "class Node:\n",
    "    def __init__(self, key):\n",
    "        self.left = None\n",
    "        self.right = None\n",
    "        self.value = key\n",
    "\n",
    "def preorder_traversal(root):\n",
    "    result = []\n",
    "    if root:\n",
    "        result.append(root.value)\n",
    "        result.extend(preorder_traversal(root.left))\n",
    "        result.extend(preorder_traversal(root.right))\n",
    "    return result\n",
    "\n",
    "def inorder_traversal(root):\n",
    "    result = []\n",
    "    if root:\n",
    "        result.extend(inorder_traversal(root.left))\n",
    "        result.append(root.value)\n",
    "        result.extend(inorder_traversal(root.right))\n",
    "    return result\n",
    "\n",
    "def postorder_traversal(root):\n",
    "    result = []\n",
    "    if root:\n",
    "        result.extend(postorder_traversal(root.left))\n",
    "        result.extend(postorder_traversal(root.right))\n",
    "        result.append(root.value)\n",
    "    return result\n",
    "\n",
    "# Example:\n",
    "if __name__ == \"__main__\":\n",
    "    root = Node(1)\n",
    "    root.left = Node(2)\n",
    "    root.right = Node(3)\n",
    "    root.left.left = Node(4)\n",
    "    root.left.right = Node(5)\n",
    "    root.right.left = Node(6)\n",
    "    root.right.right = Node(7)\n",
    "\n",
    "    print(\"Pre-order traversal:\", preorder_traversal(root))\n",
    "    print(\"In-order traversal:\", inorder_traversal(root))\n",
    "    print(\"Post-order traversal:\", postorder_traversal(root))\n"
   ]
  },
  {
   "cell_type": "markdown",
   "id": "1ddd7513",
   "metadata": {},
   "source": [
    "### 4.Function to print all the leaves in a given binary tree"
   ]
  },
  {
   "cell_type": "code",
   "execution_count": 5,
   "id": "e947b829",
   "metadata": {},
   "outputs": [
    {
     "name": "stdout",
     "output_type": "stream",
     "text": [
      "Leaf nodes in the binary tree:\n",
      "4\n",
      "5\n",
      "6\n",
      "7\n"
     ]
    }
   ],
   "source": [
    "class Node:\n",
    "    def __init__(self, key):\n",
    "        self.left = None\n",
    "        self.right = None\n",
    "        self.value = key\n",
    "\n",
    "def print_leaves(root):\n",
    "    if root is None:\n",
    "        return\n",
    "    if root.left is None and root.right is None:\n",
    "        print(root.value)\n",
    "    else:\n",
    "        print_leaves(root.left)\n",
    "        print_leaves(root.right)\n",
    "\n",
    "# Example:\n",
    "if __name__ == \"__main__\":\n",
    "    root = Node(1)\n",
    "    root.left = Node(2)\n",
    "    root.right = Node(3)\n",
    "    root.left.left = Node(4)\n",
    "    root.left.right = Node(5)\n",
    "    root.right.left = Node(6)\n",
    "    root.right.right = Node(7)\n",
    "\n",
    "    print(\"Leaf nodes in the binary tree:\")\n",
    "    print_leaves(root)\n"
   ]
  },
  {
   "cell_type": "markdown",
   "id": "fbad651d",
   "metadata": {},
   "source": [
    "### 5.Implement BFS (Breath First Search) and DFS (Depth First Search)"
   ]
  },
  {
   "cell_type": "code",
   "execution_count": 1,
   "id": "d27c393f",
   "metadata": {},
   "outputs": [
    {
     "name": "stdout",
     "output_type": "stream",
     "text": [
      "Breadth-First Search (BFS): [1, 2, 3, 4, 5, 6, 7]\n",
      "Depth-First Search (DFS) - In-order: [4, 2, 5, 1, 6, 3, 7]\n",
      "Depth-First Search (DFS) - Pre-order: [1, 2, 4, 5, 3, 6, 7]\n",
      "Depth-First Search (DFS) - Post-order: [4, 5, 2, 6, 7, 3, 1]\n"
     ]
    }
   ],
   "source": [
    "class Node:\n",
    "    def __init__(self, key):\n",
    "        self.left = None\n",
    "        self.right = None\n",
    "        self.value = key\n",
    "\n",
    "# BFS (Breadth-First Search)\n",
    "def bfs(root):\n",
    "    if root is None:\n",
    "        return []\n",
    "\n",
    "    result = []\n",
    "    queue = [root]\n",
    "\n",
    "    while queue:\n",
    "        current = queue.pop(0)\n",
    "        result.append(current.value)\n",
    "\n",
    "        if current.left:\n",
    "            queue.append(current.left)\n",
    "        if current.right:\n",
    "            queue.append(current.right)\n",
    "\n",
    "    return result\n",
    "\n",
    "# DFS (Depth-First Search) - In-order traversal\n",
    "def dfs_inorder(root):\n",
    "    result = []\n",
    "    if root:\n",
    "        result.extend(dfs_inorder(root.left))\n",
    "        result.append(root.value)\n",
    "        result.extend(dfs_inorder(root.right))\n",
    "    return result\n",
    "\n",
    "# DFS (Depth-First Search) - Pre-order traversal\n",
    "def dfs_preorder(root):\n",
    "    result = []\n",
    "    if root:\n",
    "        result.append(root.value)\n",
    "        result.extend(dfs_preorder(root.left))\n",
    "        result.extend(dfs_preorder(root.right))\n",
    "    return result\n",
    "\n",
    "# DFS (Depth-First Search) - Post-order traversal\n",
    "def dfs_postorder(root):\n",
    "    result = []\n",
    "    if root:\n",
    "        result.extend(dfs_postorder(root.left))\n",
    "        result.extend(dfs_postorder(root.right))\n",
    "        result.append(root.value)\n",
    "    return result\n",
    "\n",
    "# Example:\n",
    "if __name__ == \"__main__\":\n",
    "    root = Node(1)\n",
    "    root.left = Node(2)\n",
    "    root.right = Node(3)\n",
    "    root.left.left = Node(4)\n",
    "    root.left.right = Node(5)\n",
    "    root.right.left = Node(6)\n",
    "    root.right.right = Node(7)\n",
    "\n",
    "    print(\"Breadth-First Search (BFS):\", bfs(root))\n",
    "    print(\"Depth-First Search (DFS) - In-order:\", dfs_inorder(root))\n",
    "    print(\"Depth-First Search (DFS) - Pre-order:\", dfs_preorder(root))\n",
    "    print(\"Depth-First Search (DFS) - Post-order:\", dfs_postorder(root))\n"
   ]
  },
  {
   "cell_type": "markdown",
   "id": "60dffad5",
   "metadata": {},
   "source": [
    "### 6.Find sum of all left leaves in a given Binary Tree"
   ]
  },
  {
   "cell_type": "code",
   "execution_count": 2,
   "id": "973f484c",
   "metadata": {},
   "outputs": [
    {
     "name": "stdout",
     "output_type": "stream",
     "text": [
      "Sum of left leaves: 10\n"
     ]
    }
   ],
   "source": [
    "class Node:\n",
    "    def __init__(self, key):\n",
    "        self.left = None\n",
    "        self.right = None\n",
    "        self.value = key\n",
    "\n",
    "def sum_of_left_leaves(root):\n",
    "    if root is None:\n",
    "        return 0\n",
    "\n",
    "    if root.left and not root.left.left and not root.left.right:\n",
    "        left_leaf_sum = root.left.value\n",
    "    else:\n",
    "        left_leaf_sum = 0\n",
    "\n",
    "    left_sum = sum_of_left_leaves(root.left)\n",
    "    right_sum = sum_of_left_leaves(root.right)\n",
    "\n",
    "    return left_leaf_sum + left_sum + right_sum\n",
    "\n",
    "# Example:\n",
    "if __name__ == \"__main__\":\n",
    "    root = Node(1)\n",
    "    root.left = Node(2)\n",
    "    root.right = Node(3)\n",
    "    root.left.left = Node(4)\n",
    "    root.left.right = Node(5)\n",
    "    root.right.left = Node(6)\n",
    "    root.right.right = Node(7)\n",
    "\n",
    "    result = sum_of_left_leaves(root)\n",
    "    print(\"Sum of left leaves:\", result)\n"
   ]
  },
  {
   "cell_type": "markdown",
   "id": "b2bf1968",
   "metadata": {},
   "source": [
    "### 7.Find sum of all nodes of the given perfect binary tree"
   ]
  },
  {
   "cell_type": "code",
   "execution_count": 3,
   "id": "2644e388",
   "metadata": {},
   "outputs": [
    {
     "name": "stdout",
     "output_type": "stream",
     "text": [
      "Sum of all nodes in the perfect binary tree: 28\n"
     ]
    }
   ],
   "source": [
    "class Node:\n",
    "    def __init__(self, key):\n",
    "        self.left = None\n",
    "        self.right = None\n",
    "        self.value = key\n",
    "\n",
    "def count_nodes(root):\n",
    "    if root is None:\n",
    "        return 0\n",
    "    return 1 + count_nodes(root.left) + count_nodes(root.right)\n",
    "\n",
    "def sum_of_nodes_in_perfect_binary_tree(root):\n",
    "    if root is None:\n",
    "        return 0\n",
    "\n",
    "    total_nodes = count_nodes(root)\n",
    "    return total_nodes * (total_nodes + 1) // 2\n",
    "\n",
    "# Example:\n",
    "if __name__ == \"__main__\":\n",
    "    root = Node(1)\n",
    "    root.left = Node(2)\n",
    "    root.right = Node(3)\n",
    "    root.left.left = Node(4)\n",
    "    root.left.right = Node(5)\n",
    "    root.right.left = Node(6)\n",
    "    root.right.right = Node(7)\n",
    "\n",
    "    result = sum_of_nodes_in_perfect_binary_tree(root)\n",
    "    print(\"Sum of all nodes in the perfect binary tree:\", result)\n"
   ]
  },
  {
   "cell_type": "markdown",
   "id": "3c0574a0",
   "metadata": {},
   "source": [
    "### 8.Count subtress that sum up to a given value x in a binary tree"
   ]
  },
  {
   "cell_type": "code",
   "execution_count": 4,
   "id": "539e11eb",
   "metadata": {},
   "outputs": [
    {
     "name": "stdout",
     "output_type": "stream",
     "text": [
      "Number of subtrees with sum 8 is 2\n"
     ]
    }
   ],
   "source": [
    "class Node:\n",
    "    def __init__(self, key):\n",
    "        self.left = None\n",
    "        self.right = None\n",
    "        self.value = key\n",
    "\n",
    "def count_subtrees_with_sum(root, x):\n",
    "    if root is None:\n",
    "        return 0\n",
    "\n",
    "    def has_subtree_with_sum(node, x):\n",
    "        if node is None:\n",
    "            return False\n",
    "        if node.value == x:\n",
    "            return True\n",
    "        return has_subtree_with_sum(node.left, x - node.value) or has_subtree_with_sum(node.right, x - node.value)\n",
    "\n",
    "    count = 0\n",
    "    if has_subtree_with_sum(root, x):\n",
    "        count += 1\n",
    "    count += count_subtrees_with_sum(root.left, x)\n",
    "    count += count_subtrees_with_sum(root.right, x)\n",
    "\n",
    "    return count\n",
    "\n",
    "# Example:\n",
    "if __name__ == \"__main__\":\n",
    "    root = Node(10)\n",
    "    root.left = Node(5)\n",
    "    root.right = Node(-3)\n",
    "    root.left.left = Node(3)\n",
    "    root.left.right = Node(2)\n",
    "    root.right.right = Node(11)\n",
    "    root.left.left.left = Node(3)\n",
    "    root.left.left.right = Node(-2)\n",
    "    root.left.right.right = Node(1)\n",
    "\n",
    "    x = 8  \n",
    "    result = count_subtrees_with_sum(root, x)\n",
    "    print(\"Number of subtrees with sum\", x, \"is\", result)\n"
   ]
  },
  {
   "cell_type": "markdown",
   "id": "5a5ceb1b",
   "metadata": {},
   "source": [
    "### 9.Find maximum level sum in Binary Tree"
   ]
  },
  {
   "cell_type": "code",
   "execution_count": 6,
   "id": "b0dbf252",
   "metadata": {},
   "outputs": [
    {
     "name": "stdout",
     "output_type": "stream",
     "text": [
      "Maximum level sum in the binary tree: 17\n"
     ]
    }
   ],
   "source": [
    "class Node:\n",
    "    def __init__(self, key):\n",
    "        self.left = None\n",
    "        self.right = None\n",
    "        self.value = key\n",
    "\n",
    "def max_level_sum(root):\n",
    "    if root is None:\n",
    "        return 0\n",
    "\n",
    "    max_sum = float('-inf') \n",
    "    current_level_sum = 0\n",
    "\n",
    "    queue = [root]\n",
    "\n",
    "    while queue:\n",
    "        level_size = len(queue)\n",
    "        current_level_sum = sum(node.value for node in queue)\n",
    "\n",
    "        max_sum = max(max_sum, current_level_sum)\n",
    "\n",
    "        for _ in range(level_size):\n",
    "            node = queue.pop(0)\n",
    "            if node.left:\n",
    "                queue.append(node.left)\n",
    "            if node.right:\n",
    "                queue.append(node.right)\n",
    "\n",
    "    return max_sum\n",
    "\n",
    "# Example:\n",
    "if __name__ == \"__main__\":\n",
    "    root = Node(1)\n",
    "    root.left = Node(2)\n",
    "    root.right = Node(3)\n",
    "    root.left.left = Node(4)\n",
    "    root.left.right = Node(5)\n",
    "    root.right.right = Node(8)\n",
    "    root.right.right.left = Node(6)\n",
    "    root.right.right.right = Node(7)\n",
    "\n",
    "    result = max_level_sum(root)\n",
    "    print(\"Maximum level sum in the binary tree:\", result)\n"
   ]
  },
  {
   "cell_type": "markdown",
   "id": "ad5486fb",
   "metadata": {},
   "source": [
    "### 10.Print the nodes at odd levels of a tree"
   ]
  },
  {
   "cell_type": "code",
   "execution_count": 7,
   "id": "f4e24f85",
   "metadata": {},
   "outputs": [
    {
     "name": "stdout",
     "output_type": "stream",
     "text": [
      "Nodes at odd levels:\n",
      "1 4 5 6 7 "
     ]
    }
   ],
   "source": [
    "class Node:\n",
    "    def __init__(self, key):\n",
    "        self.left = None\n",
    "        self.right = None\n",
    "        self.value = key\n",
    "\n",
    "def print_nodes_at_odd_levels(root):\n",
    "    if root is None:\n",
    "        return\n",
    "\n",
    "    def print_odd_level_nodes(node, level):\n",
    "        if node is None:\n",
    "            return\n",
    "        if level % 2 != 0:\n",
    "            print(node.value, end=\" \")\n",
    "        print_odd_level_nodes(node.left, level + 1)\n",
    "        print_odd_level_nodes(node.right, level + 1)\n",
    "\n",
    "    print_odd_level_nodes(root, 1)\n",
    "\n",
    "# Example:\n",
    "if __name__ == \"__main__\":\n",
    "    root = Node(1)\n",
    "    root.left = Node(2)\n",
    "    root.right = Node(3)\n",
    "    root.left.left = Node(4)\n",
    "    root.left.right = Node(5)\n",
    "    root.right.left = Node(6)\n",
    "    root.right.right = Node(7)\n",
    "    root.left.left.left = Node(8)\n",
    "    root.left.left.right = Node(9)\n",
    "\n",
    "    print(\"Nodes at odd levels:\")\n",
    "    print_nodes_at_odd_levels(root)\n"
   ]
  }
 ],
 "metadata": {
  "kernelspec": {
   "display_name": "Python 3 (ipykernel)",
   "language": "python",
   "name": "python3"
  },
  "language_info": {
   "codemirror_mode": {
    "name": "ipython",
    "version": 3
   },
   "file_extension": ".py",
   "mimetype": "text/x-python",
   "name": "python",
   "nbconvert_exporter": "python",
   "pygments_lexer": "ipython3",
   "version": "3.10.9"
  }
 },
 "nbformat": 4,
 "nbformat_minor": 5
}
